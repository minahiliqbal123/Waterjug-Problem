{
 "cells": [
  {
   "cell_type": "code",
   "execution_count": 7,
   "id": "86bbdc4f-95b5-46a7-b545-53e5edf5074f",
   "metadata": {},
   "outputs": [
    {
     "name": "stdout",
     "output_type": "stream",
     "text": [
      "Solution Found\n",
      "(0, 0)\n",
      "(0, 5)\n",
      "(5, 0)\n",
      "(5, 5)\n",
      "(7, 3)\n",
      "(0, 3)\n",
      "(3, 0)\n",
      "(3, 5)\n",
      "(7, 1)\n",
      "(0, 1)\n",
      "(1, 0)\n",
      "(1, 5)\n",
      "(6, 0)\n",
      "(6, 5)\n",
      "(7, 4)\n",
      "(0, 4)\n",
      "(4, 0)\n",
      "(4, 5)\n",
      "(7, 2)\n"
     ]
    },
    {
     "data": {
      "text/plain": [
       "True"
      ]
     },
     "execution_count": 7,
     "metadata": {},
     "output_type": "execute_result"
    }
   ],
   "source": [
    "def waterjugproblem(capacity1, capacity2, goal):\n",
    "    stack = []\n",
    "    visited = set()\n",
    "    \n",
    "    stack.append((0, 0))\n",
    "    visited.add((0, 0))\n",
    "    \n",
    "    actions = []\n",
    "    \n",
    "    while stack:\n",
    "        jug1, jug2 = stack.pop()\n",
    "        actions.append((jug1, jug2))\n",
    "        \n",
    "        if jug1 == goal or jug2 == goal:\n",
    "            print(\"Solution Found\")\n",
    "            for action in actions:\n",
    "                print(action)\n",
    "            return True\n",
    "            \n",
    "        rules = [\n",
    "            (capacity1, jug2),\n",
    "            (jug1, capacity2),\n",
    "            (0, jug2),\n",
    "            (jug1, 0),\n",
    "            (jug1 - min(jug1, capacity2 - jug2), jug2 + min(jug1, capacity2 - jug2)),\n",
    "            (jug1 + min(jug2, capacity1 - jug1), jug2 + min(jug2, capacity1 - jug1)),\n",
    "            (0, jug1 + jug2) if jug1 + jug2 <= capacity2 else (jug1 + jug2 - capacity2, capacity2),\n",
    "            (jug1 + jug2, 0) if jug1 + jug2 <= capacity1 else (capacity1, jug1 + jug2 - capacity1)    \n",
    "        ]\n",
    "        \n",
    "        for state in rules:\n",
    "            if state not in visited:\n",
    "                visited.add(state)\n",
    "                stack.append(state)\n",
    "    print(\"No Solution Found\")\n",
    "    return False\n",
    "\n",
    "jug1Capacity = 7\n",
    "jug2Capacity = 5\n",
    "target = 2\n",
    "\n",
    "waterjugproblem(jug1Capacity, jug2Capacity, target)"
   ]
  },
  {
   "cell_type": "code",
   "execution_count": null,
   "id": "4fb788f0-0502-43ab-baa8-6a8d868efb9b",
   "metadata": {},
   "outputs": [],
   "source": []
  }
 ],
 "metadata": {
  "kernelspec": {
   "display_name": "Python 3 (ipykernel)",
   "language": "python",
   "name": "python3"
  },
  "language_info": {
   "codemirror_mode": {
    "name": "ipython",
    "version": 3
   },
   "file_extension": ".py",
   "mimetype": "text/x-python",
   "name": "python",
   "nbconvert_exporter": "python",
   "pygments_lexer": "ipython3",
   "version": "3.11.7"
  }
 },
 "nbformat": 4,
 "nbformat_minor": 5
}
